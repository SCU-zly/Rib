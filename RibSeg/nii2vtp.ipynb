{
 "cells": [
  {
   "cell_type": "code",
   "execution_count": 1,
   "metadata": {},
   "outputs": [],
   "source": [
    "import SimpleITK as sitk\n",
    "import vtk\n",
    "import os\n",
    "def nii2mha(nii_path,mha_path):\n",
    "    reader=sitk.ReadImage(nii_path)\n",
    "    # print(reader)\n",
    "    # print(reader.GetSpacing())\n",
    "    PixelSpacing = reader.GetSpacing()\n",
    "    Origin = PixelSpacing = reader.GetOrigin()\n",
    "    #Origin = referencect.ImagePositionPatient\n",
    "    img=sitk.GetArrayFromImage(reader) #z y x\n",
    "    img2=sitk.GetImageFromArray(img) #z y x\n",
    "    img2.SetSpacing(PixelSpacing)\n",
    "    img2.SetOrigin(Origin)\n",
    "    sitk.WriteImage(img2,mha_path)\n",
    "def mha2vtp(input_,out_dir):\n",
    "    img_reader = vtk.vtkMetaImageReader()\n",
    "    surface = vtk.vtkMarchingCubes()\n",
    "    smooth = vtk.vtkSmoothPolyDataFilter()\n",
    "    xmlPoly_writer = vtk.vtkXMLPolyDataWriter()\n",
    "    img_reader.SetFileName(input_)\n",
    "    img_reader.Update()\n",
    "    surface.SetInputData(img_reader.GetOutput())\n",
    "    surface.ComputeGradientsOff()\n",
    "    surface.ComputeNormalsOff()\n",
    "    surface.SetValue(0,1)\n",
    "    surface.Update()\n",
    "#     smooth.SetInputData(surface.GetOutput())\n",
    "#     smooth.SetNumberOfIterations(2)\n",
    "#     smooth.SetRelaxationFactor(1)\n",
    "#     smooth.Update()\n",
    "    xmlPoly_writer.SetFileName(os.path.join(out_dir, input_.split('/')[-1].replace('.mha', '.vtp')))\n",
    "    xmlPoly_writer.SetInputData(surface.GetOutput())\n",
    "    xmlPoly_writer.Write()"
   ]
  },
  {
   "cell_type": "code",
   "execution_count": 15,
   "metadata": {},
   "outputs": [],
   "source": [
    "nii2mha(\"./data/PredictDir/RibFrac421-pred.nii.gz\",\"./data/tmp/RibFrac421-pred.mha\")\n",
    "mha2vtp(\"./data/tmp/RibFrac421-pred.mha\",\"./data/\")"
   ]
  },
  {
   "cell_type": "code",
   "execution_count": 2,
   "metadata": {},
   "outputs": [],
   "source": [
    "nii2mha(\"./data/RibSeg/nii/RibFrac421-rib-seg.nii.gz\",\"./data/tmp/RibFrac421-seg.mha\")\n",
    "mha2vtp(\"./data/tmp/RibFrac421-seg.mha\",\"./data/\")\n"
   ]
  },
  {
   "cell_type": "code",
   "execution_count": null,
   "metadata": {},
   "outputs": [],
   "source": []
  }
 ],
 "metadata": {
  "interpreter": {
   "hash": "8556c49052b5cabb9d2c490e92acb124b73214d24c22c0b13c0fd41c83b56bfe"
  },
  "kernelspec": {
   "display_name": "Python 3.7.11 ('zlylab')",
   "language": "python",
   "name": "python3"
  },
  "language_info": {
   "codemirror_mode": {
    "name": "ipython",
    "version": 3
   },
   "file_extension": ".py",
   "mimetype": "text/x-python",
   "name": "python",
   "nbconvert_exporter": "python",
   "pygments_lexer": "ipython3",
   "version": "3.7.11"
  },
  "orig_nbformat": 4
 },
 "nbformat": 4,
 "nbformat_minor": 2
}
