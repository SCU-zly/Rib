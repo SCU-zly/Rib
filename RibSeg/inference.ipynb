{
 "cells": [
  {
   "cell_type": "code",
   "execution_count": 1,
   "metadata": {},
   "outputs": [],
   "source": [
    "import argparse\n",
    "import os\n",
    "import torch\n",
    "import sys\n",
    "import importlib\n",
    "from tqdm import tqdm\n",
    "import numpy as np\n",
    "import time\n",
    "import nibabel as nib\n",
    "import SimpleITK as sitk\n",
    "import skimage\n",
    "\n",
    "def to_categorical(y, num_classes):\n",
    "    \"\"\" 1-hot encodes a tensor \"\"\"\n",
    "    new_y = torch.eye(num_classes)[y.cpu().data.numpy(),]\n",
    "    if (y.is_cuda):\n",
    "        return new_y.cuda()\n",
    "    return new_y\n",
    "\n",
    "def pc_normalize(pc):\n",
    "    centroid = np.mean(pc, axis=0)\n",
    "    pc = pc - centroid\n",
    "    m = np.max(np.sqrt(np.sum(pc ** 2, axis=1)))\n",
    "    pc = pc / m\n",
    "    return pc\n",
    "\n",
    "def preprocess_bone(nii_path,tmp_path):\n",
    "    source = nib.load(nii_path)\n",
    "    source = source.get_fdata()\n",
    "    source[source >= 200] = 1\n",
    "    source[source != 1] = 0\n",
    "    temp = np.argwhere(source == 1)\n",
    "    # label =nib.load(\"./data/RibSeg/nii/RibFrac421-rib-seg.nii.gz\")\n",
    "    # label = label.get_fdata()\n",
    "    # label_selected_points = []\n",
    "    # for i in temp:\n",
    "    #     label_selected_points.append(label[i[0]][i[1]][i[2]])\n",
    "    # label_selected_points = np.array(label_selected_points)\n",
    "    # print(\"label shape:\",label_selected_points.shape)\n",
    "    np.save(tmp_path,temp)"
   ]
  },
  {
   "cell_type": "code",
   "execution_count": 2,
   "metadata": {},
   "outputs": [],
   "source": [
    "os.environ[\"CUDA_VISIBLE_DEVICES\"] =\"0\"\n",
    "experiment_dir = './log/part_seg/c2_a'\n",
    "num_classes = 16\n",
    "num_part = 50"
   ]
  },
  {
   "cell_type": "code",
   "execution_count": 3,
   "metadata": {},
   "outputs": [
    {
     "data": {
      "text/plain": [
       "<All keys matched successfully>"
      ]
     },
     "execution_count": 3,
     "metadata": {},
     "output_type": "execute_result"
    }
   ],
   "source": [
    "import models.pointnet2_part_seg_msg as MODEL\n",
    "classifier = MODEL.get_model(num_part, normal_channel=False).cuda()\n",
    "checkpoint = torch.load(str(experiment_dir) + '/checkpoints/best_model.pth')\n",
    "classifier.load_state_dict(checkpoint['model_state_dict'])"
   ]
  },
  {
   "cell_type": "code",
   "execution_count": 3,
   "metadata": {},
   "outputs": [],
   "source": [
    "nii_path = \"./data/RibSeg/test/RibFrac421-image.nii.gz\"\n",
    "tmp_nppath = \"./data/tmp/\"\n",
    "save_path = \"./data/PredictDir/RibFrac421-pred.nii.gz\"\n",
    "# preprocess_bone(nii_path,tmp_nppath+\"image-data.npy\")"
   ]
  },
  {
   "cell_type": "code",
   "execution_count": 6,
   "metadata": {},
   "outputs": [
    {
     "name": "stderr",
     "output_type": "stream",
     "text": [
      "D:\\Anaconda\\envs\\zlylab\\lib\\site-packages\\ipykernel_launcher.py:19: DeprecationWarning: time.clock has been deprecated in Python 3.3 and will be removed from Python 3.8: use time.perf_counter or time.process_time instead\n"
     ]
    },
    {
     "name": "stdout",
     "output_type": "stream",
     "text": [
      "time cost : 1.8517037999999957\n"
     ]
    },
    {
     "name": "stderr",
     "output_type": "stream",
     "text": [
      "D:\\Anaconda\\envs\\zlylab\\lib\\site-packages\\ipykernel_launcher.py:24: DeprecationWarning: time.clock has been deprecated in Python 3.3 and will be removed from Python 3.8: use time.perf_counter or time.process_time instead\n"
     ]
    }
   ],
   "source": [
    "with torch.no_grad():\n",
    "    time_cost = 0\n",
    "    num=0\n",
    "    data = np.load(tmp_nppath+\"image-data.npy\").astype(np.float32)\n",
    "    points = data[:, 0:3]\n",
    "    choice = np.random.choice(data.shape[0], 30000, replace=False)\n",
    "    # resample\n",
    "    points = points[choice, :]\n",
    "    np.save(tmp_nppath+\"image-point.npy\",points.astype('int32'))\n",
    "    points[:, 0:3] = pc_normalize(points[:, 0:3])\n",
    "\n",
    "    label = np.array([0])\n",
    "\n",
    "    points = np.expand_dims(points, 0)\n",
    "    label = np.expand_dims(label, 0)\n",
    "    \n",
    "    points, label = torch.from_numpy(points).float().cuda(), torch.from_numpy(label).long().cuda()\n",
    "    points = points.transpose(2, 1)\n",
    "    t1=time.clock()\n",
    "\n",
    "    classifier = classifier.eval()\n",
    "    seg_pred, trans_feat = classifier(points, to_categorical(label, num_classes))\n",
    "\n",
    "    time_cost += time.clock()-t1\n",
    "    seg_pred = seg_pred.contiguous().view(-1, num_part)\n",
    "    pred_choice = seg_pred.data.max(1)[1]\n",
    "    pred_choice=pred_choice.cpu().numpy()\n",
    "    np.save(tmp_nppath+\"image-label.npy\",pred_choice.astype('int8'))\n",
    "    print(\"time cost :\",time_cost)"
   ]
  },
  {
   "cell_type": "code",
   "execution_count": 4,
   "metadata": {},
   "outputs": [],
   "source": [
    "s_i = nib.load(nii_path)\n",
    "aff= s_i.affine\n",
    "s_i = s_i.get_fdata()\n",
    "s_i[s_i != 0] = 1\n",
    "s_i = s_i.astype('int8')\n",
    "\n",
    "loc = np.load(tmp_nppath+\"image-point.npy\")\n",
    "label = np.load(tmp_nppath+\"image-label.npy\")"
   ]
  },
  {
   "cell_type": "code",
   "execution_count": 5,
   "metadata": {},
   "outputs": [],
   "source": [
    "mask_rd = np.zeros(s_i.shape)\n",
    "mask_res = np.zeros(s_i.shape)\n",
    "for index in loc:\n",
    "    x, y, z = index[0], index[1], index[2]\n",
    "    mask_rd[x][y][z] = 1\n",
    "for i in range(loc.shape[0]):\n",
    "    index = loc[i]\n",
    "    x, y, z = index[0], index[1], index[2]\n",
    "    mask_res[x][y][z] = label[i]\n",
    "\n"
   ]
  },
  {
   "cell_type": "code",
   "execution_count": 8,
   "metadata": {},
   "outputs": [],
   "source": [
    "im = np.multiply(s_i, mask_res)"
   ]
  },
  {
   "cell_type": "code",
   "execution_count": 6,
   "metadata": {},
   "outputs": [],
   "source": [
    "lmage_array = sitk.GetImageFromArray(mask_res.astype('int8'))\n",
    "# closed = sitk.BinaryMorphologicalClosing(lmage_array,15,sitk.sitkBall)\n",
    "dilated = sitk.BinaryDilate(lmage_array, (3,3,3), sitk.sitkBall)\n",
    "# Eroded = sitk.BinaryErode(dilated,3,sitk.sitkBall)\n",
    "# holesfilled = sitk.BinaryFillhole(dilated,fullyConnected=True)\n",
    "# bmopening = sitk.BinaryMorphologicalOpening(lmage_array,3,sitk.sitkBall)\n",
    "# holesfilled = sitk.GetArrayFromImage(dilated)\n",
    "im_to = sitk.GetArrayFromImage(dilated)"
   ]
  },
  {
   "cell_type": "code",
   "execution_count": 7,
   "metadata": {},
   "outputs": [],
   "source": [
    "res = np.multiply(s_i, im_to)\n",
    "res1 = skimage.measure.label(res, connectivity=1)\n",
    "rib_p = skimage.measure.regionprops(res1)\n",
    "\n",
    "rib_p.sort(key=lambda x: x.area, reverse=True)\n",
    "\n",
    "im = np.in1d(res1, [x.label for x in rib_p[:24]]).reshape(res1.shape)\n",
    "\n",
    "im = im.astype('int8')"
   ]
  },
  {
   "cell_type": "code",
   "execution_count": 8,
   "metadata": {},
   "outputs": [],
   "source": [
    "new_image = nib.Nifti1Image(im,aff) \n",
    "nib.save(new_image,save_path)\n",
    "# rib_p.sort(key=lambda x: x.area, reverse=True)"
   ]
  },
  {
   "cell_type": "code",
   "execution_count": 11,
   "metadata": {},
   "outputs": [
    {
     "data": {
      "text/plain": [
       "(512, 512, 325)"
      ]
     },
     "execution_count": 11,
     "metadata": {},
     "output_type": "execute_result"
    }
   ],
   "source": [
    "im.shape"
   ]
  },
  {
   "cell_type": "code",
   "execution_count": null,
   "metadata": {},
   "outputs": [],
   "source": []
  }
 ],
 "metadata": {
  "interpreter": {
   "hash": "8556c49052b5cabb9d2c490e92acb124b73214d24c22c0b13c0fd41c83b56bfe"
  },
  "kernelspec": {
   "display_name": "Python 3.7.11 ('zlylab')",
   "language": "python",
   "name": "python3"
  },
  "language_info": {
   "codemirror_mode": {
    "name": "ipython",
    "version": 3
   },
   "file_extension": ".py",
   "mimetype": "text/x-python",
   "name": "python",
   "nbconvert_exporter": "python",
   "pygments_lexer": "ipython3",
   "version": "3.7.11"
  },
  "orig_nbformat": 4
 },
 "nbformat": 4,
 "nbformat_minor": 2
}
