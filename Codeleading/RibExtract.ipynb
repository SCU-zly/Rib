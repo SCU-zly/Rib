{
 "cells": [
  {
   "cell_type": "code",
   "execution_count": 7,
   "metadata": {},
   "outputs": [],
   "source": [
    "import SimpleITK as sitk\n",
    "import nibabel as nib\n",
    "import numpy as np\n",
    "import os"
   ]
  },
  {
   "cell_type": "code",
   "execution_count": 2,
   "metadata": {},
   "outputs": [],
   "source": [
    "# 最大连通域提取\n",
    "def GetLargestConnectedCompont(binarysitk_image):\n",
    "    cc = sitk.ConnectedComponent(binarysitk_image)\n",
    "    stats = sitk.LabelIntensityStatisticsImageFilter()\n",
    "    stats.SetGlobalDefaultNumberOfThreads(8)\n",
    "    stats.Execute(cc, binarysitk_image)\n",
    "    maxlabel = 0\n",
    "    maxsize = 0\n",
    "    for l in stats.GetLabels():\n",
    "        size = stats.GetPhysicalSize(l)\n",
    "        if maxsize < size:\n",
    "            maxlabel = l\n",
    "            maxsize = size\n",
    "    labelmaskimage = sitk.GetArrayFromImage(cc)\n",
    "    outmask = labelmaskimage.copy()\n",
    "    outmask[labelmaskimage == maxlabel] = 255\n",
    "    outmask[labelmaskimage != maxlabel] = 0\n",
    "    outmask_sitk = sitk.GetImageFromArray(outmask)\n",
    "    outmask_sitk.SetDirection(binarysitk_image.GetDirection())\n",
    "    outmask_sitk.SetSpacing(binarysitk_image.GetSpacing())\n",
    "    outmask_sitk.SetOrigin(binarysitk_image.GetOrigin())\n",
    "    return outmask_sitk\n",
    "\n",
    "# 逻辑与操作\n",
    "def GetMaskImage(sitk_src, sitk_mask, replacevalue=0):\n",
    "    array_src = sitk.GetArrayFromImage(sitk_src)\n",
    "    array_mask = sitk.GetArrayFromImage(sitk_mask)\n",
    "    array_out = array_src.copy()\n",
    "    array_out[array_mask == 0] = replacevalue\n",
    "    outmask_sitk = sitk.GetImageFromArray(array_out)\n",
    "    outmask_sitk.SetDirection(sitk_src.GetDirection())\n",
    "    outmask_sitk.SetSpacing(sitk_src.GetSpacing())\n",
    "    outmask_sitk.SetOrigin(sitk_src.GetOrigin())\n",
    "    return outmask_sitk"
   ]
  },
  {
   "cell_type": "code",
   "execution_count": 5,
   "metadata": {},
   "outputs": [],
   "source": [
    "image = nib.load(\".\\data\\RibFrac501-image.nii.gz\")\n",
    "im_affine = image.affine\n",
    "image = image.get_fdata().astype(np.int16)\n",
    "image = sitk.GetImageFromArray(image.astype('int16'))"
   ]
  },
  {
   "cell_type": "code",
   "execution_count": 10,
   "metadata": {},
   "outputs": [],
   "source": [
    "tmp_path = \".\\\\data\\\\tmp\""
   ]
  },
  {
   "cell_type": "code",
   "execution_count": 28,
   "metadata": {},
   "outputs": [],
   "source": [
    "sitk_seg = sitk.BinaryThreshold(image, lowerThreshold=250, upperThreshold=3000, insideValue=255, outsideValue=0)\n",
    "#first fit 阈值200\n",
    "#分出胸椎，肋骨很好 阈值300\n",
    "sitk.WriteImage(sitk_seg, os.path.join(tmp_path,'step1.mha'))"
   ]
  },
  {
   "cell_type": "code",
   "execution_count": 29,
   "metadata": {},
   "outputs": [],
   "source": [
    "sitk_open = sitk.BinaryMorphologicalOpening(sitk_seg != 0, (2,2,2))\n",
    "sitk_open = GetLargestConnectedCompont(sitk_open)\n",
    "sitk.WriteImage(sitk_open, os.path.join(tmp_path,'step2.mha'))"
   ]
  },
  {
   "cell_type": "code",
   "execution_count": 30,
   "metadata": {},
   "outputs": [],
   "source": [
    "array_open = sitk.GetArrayFromImage(sitk_open)\n",
    "array_seg = sitk.GetArrayFromImage(sitk_seg)\n",
    "array_mask = array_seg - array_open\n",
    "sitk_mask = sitk.GetImageFromArray(array_mask)\n",
    "sitk_mask.SetDirection(sitk_seg.GetDirection())\n",
    "sitk_mask.SetSpacing(sitk_seg.GetSpacing())\n",
    "sitk_mask.SetOrigin(sitk_seg.GetOrigin())\n",
    "sitk.WriteImage(sitk_mask, os.path.join(tmp_path,'step3.mha'))"
   ]
  },
  {
   "cell_type": "code",
   "execution_count": 31,
   "metadata": {},
   "outputs": [],
   "source": [
    "skeleton_mask = GetLargestConnectedCompont(sitk_mask)\n",
    "sitk.WriteImage(skeleton_mask, os.path.join(tmp_path,'step4.mha'))"
   ]
  },
  {
   "cell_type": "code",
   "execution_count": 32,
   "metadata": {},
   "outputs": [],
   "source": [
    "sitk_skeleton = GetMaskImage(image, skeleton_mask, replacevalue=-1500)\n",
    "sitk.WriteImage(sitk_skeleton,  os.path.join(tmp_path,'step5.mha'))"
   ]
  },
  {
   "cell_type": "code",
   "execution_count": null,
   "metadata": {},
   "outputs": [],
   "source": []
  }
 ],
 "metadata": {
  "interpreter": {
   "hash": "e3b0e45bafd3daf2212d3560921bc03c2a7c2358b62827cac9d7b33478124933"
  },
  "kernelspec": {
   "display_name": "Python 3.7.13 ('zlylab')",
   "language": "python",
   "name": "python3"
  },
  "language_info": {
   "codemirror_mode": {
    "name": "ipython",
    "version": 3
   },
   "file_extension": ".py",
   "mimetype": "text/x-python",
   "name": "python",
   "nbconvert_exporter": "python",
   "pygments_lexer": "ipython3",
   "version": "3.7.13"
  },
  "orig_nbformat": 4
 },
 "nbformat": 4,
 "nbformat_minor": 2
}
