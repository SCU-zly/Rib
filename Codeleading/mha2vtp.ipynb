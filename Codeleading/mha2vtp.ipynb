{
 "cells": [
  {
   "cell_type": "code",
   "execution_count": 2,
   "metadata": {},
   "outputs": [],
   "source": [
    "import vtk\n",
    "import os\n",
    "def mha2vtp(input_,out_dir):\n",
    "    img_reader = vtk.vtkMetaImageReader()\n",
    "    surface = vtk.vtkMarchingCubes()\n",
    "    smooth = vtk.vtkSmoothPolyDataFilter()\n",
    "    xmlPoly_writer = vtk.vtkXMLPolyDataWriter()\n",
    "    img_reader.SetFileName(input_)\n",
    "    img_reader.Update()\n",
    "    surface.SetInputData(img_reader.GetOutput())\n",
    "    surface.ComputeGradientsOff()\n",
    "    surface.ComputeNormalsOff()\n",
    "    surface.SetValue(0,1)\n",
    "    surface.Update()\n",
    "#     smooth.SetInputData(surface.GetOutput())\n",
    "#     smooth.SetNumberOfIterations(2)\n",
    "#     smooth.SetRelaxationFactor(1)\n",
    "#     smooth.Update()\n",
    "    xmlPoly_writer.SetFileName(os.path.join(out_dir, input_.split('/')[-1].replace('.mha', '.vtp')))\n",
    "    xmlPoly_writer.SetInputData(surface.GetOutput())\n",
    "    xmlPoly_writer.Write()"
   ]
  },
  {
   "cell_type": "code",
   "execution_count": 13,
   "metadata": {},
   "outputs": [],
   "source": [
    "mha2vtp(\"./data/tmp/step5.mha\",\"./\")"
   ]
  },
  {
   "cell_type": "code",
   "execution_count": null,
   "metadata": {},
   "outputs": [],
   "source": []
  }
 ],
 "metadata": {
  "interpreter": {
   "hash": "e3b0e45bafd3daf2212d3560921bc03c2a7c2358b62827cac9d7b33478124933"
  },
  "kernelspec": {
   "display_name": "Python 3.7.13 ('zlylab')",
   "language": "python",
   "name": "python3"
  },
  "language_info": {
   "codemirror_mode": {
    "name": "ipython",
    "version": 3
   },
   "file_extension": ".py",
   "mimetype": "text/x-python",
   "name": "python",
   "nbconvert_exporter": "python",
   "pygments_lexer": "ipython3",
   "version": "3.7.13"
  },
  "orig_nbformat": 4
 },
 "nbformat": 4,
 "nbformat_minor": 2
}
